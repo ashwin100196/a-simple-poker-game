{
 "cells": [
  {
   "cell_type": "code",
   "execution_count": 1,
   "id": "d2079b8f",
   "metadata": {},
   "outputs": [],
   "source": [
    "import session6_part2 as s6"
   ]
  },
  {
   "cell_type": "code",
   "execution_count": 2,
   "id": "6e6314fb",
   "metadata": {},
   "outputs": [
    {
     "data": {
      "text/plain": [
       "True"
      ]
     },
     "execution_count": 2,
     "metadata": {},
     "output_type": "execute_result"
    }
   ],
   "source": [
    "# check fibonacci\n",
    "s6.is_fibonacci(21)"
   ]
  },
  {
   "cell_type": "code",
   "execution_count": 3,
   "id": "c18ed49e",
   "metadata": {},
   "outputs": [
    {
     "data": {
      "text/plain": [
       "False"
      ]
     },
     "execution_count": 3,
     "metadata": {},
     "output_type": "execute_result"
    }
   ],
   "source": [
    "s6.is_fibonacci(25)"
   ]
  },
  {
   "cell_type": "code",
   "execution_count": 4,
   "id": "cceee055",
   "metadata": {},
   "outputs": [
    {
     "data": {
      "text/plain": [
       "[29, 33, 37]"
      ]
     },
     "execution_count": 4,
     "metadata": {},
     "output_type": "execute_result"
    }
   ],
   "source": [
    "# add even and odd numbers for two iterables\n",
    "l1 = [1,2,3,4,5,6,7,8]\n",
    "l2 = [27,28,29,30, 31]\n",
    "s6.add_2_iterables_even_odd(l1, l2)"
   ]
  },
  {
   "cell_type": "code",
   "execution_count": 5,
   "id": "c6685875",
   "metadata": {},
   "outputs": [
    {
     "data": {
      "text/plain": [
       "'ts'"
      ]
     },
     "execution_count": 5,
     "metadata": {},
     "output_type": "execute_result"
    }
   ],
   "source": [
    "# remove vowels\n",
    "s6.strip_vowels('tsai')"
   ]
  },
  {
   "cell_type": "code",
   "execution_count": 6,
   "id": "6d9e9f35",
   "metadata": {},
   "outputs": [
    {
     "data": {
      "text/plain": [
       "0.8866108933670573"
      ]
     },
     "execution_count": 6,
     "metadata": {},
     "output_type": "execute_result"
    }
   ],
   "source": [
    "# calculate sigmoid\n",
    "s6.sigmoid([1,2,3,4]) # calculates mean of sigmoid of individual values in 1D array"
   ]
  },
  {
   "cell_type": "code",
   "execution_count": 7,
   "id": "92695f23",
   "metadata": {},
   "outputs": [
    {
     "data": {
      "text/plain": [
       "'fghij'"
      ]
     },
     "execution_count": 7,
     "metadata": {},
     "output_type": "execute_result"
    }
   ],
   "source": [
    "# shift characters by 5\n",
    "s6.shift_chars_by_n('abcde', 5)"
   ]
  },
  {
   "cell_type": "code",
   "execution_count": 8,
   "id": "f1d4bd0d",
   "metadata": {},
   "outputs": [
    {
     "data": {
      "text/plain": [
       "'xyzabcde'"
      ]
     },
     "execution_count": 8,
     "metadata": {},
     "output_type": "execute_result"
    }
   ],
   "source": [
    "# boundary conditions\n",
    "s6.shift_chars_by_n('stuvwxyz', 5)"
   ]
  },
  {
   "cell_type": "code",
   "execution_count": 9,
   "id": "64302c11",
   "metadata": {},
   "outputs": [
    {
     "data": {
      "text/plain": [
       "'\\nWhat was the most cuss words you had ever said in one sentence?\\n\\nI was brought up in a rather puritanical family where all bad language was deeply frowned upon. One Christmas, when I was very young, we were visiting an aunt of mine; my sister, my cousins and I were playing in one room and my aunt and my parents were in the next room, where my aunt was working on her sewing machine. All of a sudden, there was a loud crash, followed by my aunt proclaiming, in a voice you could hear from here to the North Pole, “Damn, ***** ****** ***** ****** **** and arseholes!!!”. This was followed by a shocked silence, before my aunt rushed from the room, red-faced, and disappeared up the stairs, where she remained for the rest of the day. My sister and I were solemly sworn never to repeat what we had just heard - so of course, we proceeded to use that string of invective at every opportunity - and continue to do so some 60 years later.\\n\\nOh, by the way, my aunt’s outburst had been provoked by the sewing machine falling off the table, ripping the garment my aunt had spent 2 days making in the process.\\n'"
      ]
     },
     "execution_count": 9,
     "metadata": {},
     "output_type": "execute_result"
    }
   ],
   "source": [
    "# censor a paragraph\n",
    "para = '''\n",
    "What was the most cuss words you had ever said in one sentence?\n",
    "\n",
    "I was brought up in a rather puritanical family where all bad language was deeply frowned upon. One Christmas, when I was very young, we were visiting an aunt of mine; my sister, my cousins and I were playing in one room and my aunt and my parents were in the next room, where my aunt was working on her sewing machine. All of a sudden, there was a loud crash, followed by my aunt proclaiming, in a voice you could hear from here to the North Pole, “Damn, fuck, bloody hell, bugger shit and arseholes!!!”. This was followed by a shocked silence, before my aunt rushed from the room, red-faced, and disappeared up the stairs, where she remained for the rest of the day. My sister and I were solemly sworn never to repeat what we had just heard - so of course, we proceeded to use that string of invective at every opportunity - and continue to do so some 60 years later.\n",
    "\n",
    "Oh, by the way, my aunt’s outburst had been provoked by the sewing machine falling off the table, ripping the garment my aunt had spent 2 days making in the process.\n",
    "'''\n",
    "\n",
    "s6.filter_profanities(para)"
   ]
  },
  {
   "cell_type": "code",
   "execution_count": 10,
   "id": "fe8c89d7",
   "metadata": {},
   "outputs": [
    {
     "data": {
      "text/plain": [
       "2450"
      ]
     },
     "execution_count": 10,
     "metadata": {},
     "output_type": "execute_result"
    }
   ],
   "source": [
    "# add only the even numbers\n",
    "l1 = list(range(100))\n",
    "\n",
    "s6.add_evens(l1)"
   ]
  },
  {
   "cell_type": "code",
   "execution_count": 11,
   "id": "6a88022b",
   "metadata": {},
   "outputs": [
    {
     "data": {
      "text/plain": [
       "0"
      ]
     },
     "execution_count": 11,
     "metadata": {},
     "output_type": "execute_result"
    }
   ],
   "source": [
    "l2 = [1,3,5,7,9]\n",
    "\n",
    "s6.add_evens(l2)"
   ]
  },
  {
   "cell_type": "code",
   "execution_count": 12,
   "id": "ac6f25c6",
   "metadata": {},
   "outputs": [
    {
     "data": {
      "text/plain": [
       "0"
      ]
     },
     "execution_count": 12,
     "metadata": {},
     "output_type": "execute_result"
    }
   ],
   "source": [
    "l3 = []\n",
    "\n",
    "s6.add_evens(l3)"
   ]
  },
  {
   "cell_type": "code",
   "execution_count": 13,
   "id": "850c09e4",
   "metadata": {},
   "outputs": [
    {
     "data": {
      "text/plain": [
       "'y'"
      ]
     },
     "execution_count": 13,
     "metadata": {},
     "output_type": "execute_result"
    }
   ],
   "source": [
    "# find biggest character in a string\n",
    "string = '\\nWhat was the most cuss words you had ever said in one sentence?\\n'\n",
    "s6.biggest_char(string)"
   ]
  },
  {
   "cell_type": "code",
   "execution_count": 14,
   "id": "2edff907",
   "metadata": {},
   "outputs": [
    {
     "data": {
      "text/plain": [
       "9"
      ]
     },
     "execution_count": 14,
     "metadata": {},
     "output_type": "execute_result"
    }
   ],
   "source": [
    "# add every third number\n",
    "l1 = [1,2,3,4,5,6]\n",
    "\n",
    "s6.add_every_third(l1)"
   ]
  },
  {
   "cell_type": "code",
   "execution_count": 15,
   "id": "415a7aba",
   "metadata": {},
   "outputs": [
    {
     "data": {
      "text/plain": [
       "0"
      ]
     },
     "execution_count": 15,
     "metadata": {},
     "output_type": "execute_result"
    }
   ],
   "source": [
    "l2 = [1,2,0,4,5,0]\n",
    "\n",
    "s6.add_every_third(l2)"
   ]
  },
  {
   "cell_type": "code",
   "execution_count": 16,
   "id": "60a7d15d",
   "metadata": {},
   "outputs": [
    {
     "data": {
      "text/plain": [
       "30"
      ]
     },
     "execution_count": 16,
     "metadata": {},
     "output_type": "execute_result"
    }
   ],
   "source": [
    "l3 = [1,2,0,4,5,10, 7,8, 20]\n",
    "\n",
    "s6.add_every_third(l3)"
   ]
  },
  {
   "cell_type": "code",
   "execution_count": 17,
   "id": "e2ee9dac",
   "metadata": {},
   "outputs": [
    {
     "data": {
      "text/plain": [
       "['KA72IS7048',\n",
       " 'KA17OH6811',\n",
       " 'KA21KZ4777',\n",
       " 'KA31MH2988',\n",
       " 'KA71VR9065',\n",
       " 'KA13KJ8619',\n",
       " 'KA77YG6222',\n",
       " 'KA69XW9288',\n",
       " 'KA66EW5498',\n",
       " 'KA21MX2341',\n",
       " 'KA21YI3676',\n",
       " 'KA15YG8976',\n",
       " 'KA91WR7387',\n",
       " 'KA79LZ7063',\n",
       " 'KA64DB4510']"
      ]
     },
     "execution_count": 17,
     "metadata": {},
     "output_type": "execute_result"
    }
   ],
   "source": [
    "# generate number plate ids of format KADDAADDDD\n",
    "s6.generate_number_plates_using_rand()"
   ]
  },
  {
   "cell_type": "code",
   "execution_count": 18,
   "id": "0a09aedf",
   "metadata": {},
   "outputs": [
    {
     "data": {
      "text/plain": [
       "['DL31FJ4590',\n",
       " 'DL97MH4531',\n",
       " 'DL81DY4538',\n",
       " 'DL33NS4514',\n",
       " 'DL90IL4545',\n",
       " 'DL68RE4536',\n",
       " 'DL20JK4516',\n",
       " 'DL79YG4547',\n",
       " 'DL37FA4571',\n",
       " 'DL64IC4530',\n",
       " 'DL48OG4531',\n",
       " 'DL70YT4557',\n",
       " 'DL19UI4553',\n",
       " 'DL33WI4584',\n",
       " 'DL31IJ4523']"
      ]
     },
     "execution_count": 18,
     "metadata": {},
     "output_type": "execute_result"
    }
   ],
   "source": [
    "# generate number plate with format AADDAADDDD\n",
    "s6.generate_number_plates_state_ranges('DL', 4500, 4600)"
   ]
  },
  {
   "cell_type": "code",
   "execution_count": 19,
   "id": "4bfdb632",
   "metadata": {},
   "outputs": [
    {
     "data": {
      "text/plain": [
       "['KA91SH2982',\n",
       " 'KA72TI9217',\n",
       " 'KA26EJ1599',\n",
       " 'KA24KC7239',\n",
       " 'KA99OI3570',\n",
       " 'KA73FT3114',\n",
       " 'KA54NA6091',\n",
       " 'KA22ZG7001',\n",
       " 'KA57VY5983',\n",
       " 'KA27UH7042',\n",
       " 'KA21QR4666',\n",
       " 'KA85YE5638',\n",
       " 'KA10IY4750',\n",
       " 'KA49OY2123',\n",
       " 'KA77EX5497']"
      ]
     },
     "execution_count": 19,
     "metadata": {},
     "output_type": "execute_result"
    }
   ],
   "source": [
    "# use the partial function on the above function to simplify the call and pass no arguments\n",
    "s6.generate_number_plates_partial_ka_1000_9999()"
   ]
  }
 ],
 "metadata": {
  "kernelspec": {
   "display_name": "Python 3",
   "language": "python",
   "name": "python3"
  },
  "language_info": {
   "codemirror_mode": {
    "name": "ipython",
    "version": 3
   },
   "file_extension": ".py",
   "mimetype": "text/x-python",
   "name": "python",
   "nbconvert_exporter": "python",
   "pygments_lexer": "ipython3",
   "version": "3.8.8"
  }
 },
 "nbformat": 4,
 "nbformat_minor": 5
}
