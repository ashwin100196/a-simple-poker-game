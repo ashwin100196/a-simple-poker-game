{
 "cells": [
  {
   "cell_type": "code",
   "execution_count": 1,
   "metadata": {},
   "outputs": [],
   "source": [
    "# pray to the gods\n",
    "import session6_part1 as s6\n",
    "from session6_part1 import Card, Hand"
   ]
  },
  {
   "cell_type": "markdown",
   "metadata": {},
   "source": [
    "### I found a deck of cards"
   ]
  },
  {
   "cell_type": "code",
   "execution_count": 2,
   "metadata": {
    "scrolled": true
   },
   "outputs": [
    {
     "data": {
      "text/plain": [
       "[Card(('2', 'spades')),\n",
       " Card(('3', 'clubs')),\n",
       " Card(('4', 'hearts')),\n",
       " Card(('5', 'diamonds')),\n",
       " Card(('6', 'spades')),\n",
       " Card(('7', 'clubs')),\n",
       " Card(('8', 'hearts')),\n",
       " Card(('9', 'diamonds')),\n",
       " Card(('10', 'spades')),\n",
       " Card(('jack', 'clubs')),\n",
       " Card(('queen', 'hearts')),\n",
       " Card(('king', 'diamonds')),\n",
       " Card(('ace', 'spades')),\n",
       " Card(('2', 'clubs')),\n",
       " Card(('3', 'hearts')),\n",
       " Card(('4', 'diamonds')),\n",
       " Card(('5', 'spades')),\n",
       " Card(('6', 'clubs')),\n",
       " Card(('7', 'hearts')),\n",
       " Card(('8', 'diamonds')),\n",
       " Card(('9', 'spades')),\n",
       " Card(('10', 'clubs')),\n",
       " Card(('jack', 'hearts')),\n",
       " Card(('queen', 'diamonds')),\n",
       " Card(('king', 'spades')),\n",
       " Card(('ace', 'clubs')),\n",
       " Card(('2', 'hearts')),\n",
       " Card(('3', 'diamonds')),\n",
       " Card(('4', 'spades')),\n",
       " Card(('5', 'clubs')),\n",
       " Card(('6', 'hearts')),\n",
       " Card(('7', 'diamonds')),\n",
       " Card(('8', 'spades')),\n",
       " Card(('9', 'clubs')),\n",
       " Card(('10', 'hearts')),\n",
       " Card(('jack', 'diamonds')),\n",
       " Card(('queen', 'spades')),\n",
       " Card(('king', 'clubs')),\n",
       " Card(('ace', 'hearts')),\n",
       " Card(('2', 'diamonds')),\n",
       " Card(('3', 'spades')),\n",
       " Card(('4', 'clubs')),\n",
       " Card(('5', 'hearts')),\n",
       " Card(('6', 'diamonds')),\n",
       " Card(('7', 'spades')),\n",
       " Card(('8', 'clubs')),\n",
       " Card(('9', 'hearts')),\n",
       " Card(('10', 'diamonds')),\n",
       " Card(('jack', 'spades')),\n",
       " Card(('queen', 'clubs')),\n",
       " Card(('king', 'hearts')),\n",
       " Card(('ace', 'diamonds'))]"
      ]
     },
     "execution_count": 2,
     "metadata": {},
     "output_type": "execute_result"
    }
   ],
   "source": [
    "s6.deck_of_cards"
   ]
  },
  {
   "cell_type": "markdown",
   "metadata": {},
   "source": [
    "### I will keep the other deck I found aside. Only one is needed"
   ]
  },
  {
   "cell_type": "code",
   "execution_count": 3,
   "metadata": {
    "scrolled": true
   },
   "outputs": [
    {
     "data": {
      "text/plain": [
       "[Card(('2', 'spades')),\n",
       " Card(('2', 'clubs')),\n",
       " Card(('2', 'hearts')),\n",
       " Card(('2', 'diamonds')),\n",
       " Card(('3', 'spades')),\n",
       " Card(('3', 'clubs')),\n",
       " Card(('3', 'hearts')),\n",
       " Card(('3', 'diamonds')),\n",
       " Card(('4', 'spades')),\n",
       " Card(('4', 'clubs')),\n",
       " Card(('4', 'hearts')),\n",
       " Card(('4', 'diamonds')),\n",
       " Card(('5', 'spades')),\n",
       " Card(('5', 'clubs')),\n",
       " Card(('5', 'hearts')),\n",
       " Card(('5', 'diamonds')),\n",
       " Card(('6', 'spades')),\n",
       " Card(('6', 'clubs')),\n",
       " Card(('6', 'hearts')),\n",
       " Card(('6', 'diamonds')),\n",
       " Card(('7', 'spades')),\n",
       " Card(('7', 'clubs')),\n",
       " Card(('7', 'hearts')),\n",
       " Card(('7', 'diamonds')),\n",
       " Card(('8', 'spades')),\n",
       " Card(('8', 'clubs')),\n",
       " Card(('8', 'hearts')),\n",
       " Card(('8', 'diamonds')),\n",
       " Card(('9', 'spades')),\n",
       " Card(('9', 'clubs')),\n",
       " Card(('9', 'hearts')),\n",
       " Card(('9', 'diamonds')),\n",
       " Card(('10', 'spades')),\n",
       " Card(('10', 'clubs')),\n",
       " Card(('10', 'hearts')),\n",
       " Card(('10', 'diamonds')),\n",
       " Card(('jack', 'spades')),\n",
       " Card(('jack', 'clubs')),\n",
       " Card(('jack', 'hearts')),\n",
       " Card(('jack', 'diamonds')),\n",
       " Card(('queen', 'spades')),\n",
       " Card(('queen', 'clubs')),\n",
       " Card(('queen', 'hearts')),\n",
       " Card(('queen', 'diamonds')),\n",
       " Card(('king', 'spades')),\n",
       " Card(('king', 'clubs')),\n",
       " Card(('king', 'hearts')),\n",
       " Card(('king', 'diamonds')),\n",
       " Card(('ace', 'spades')),\n",
       " Card(('ace', 'clubs')),\n",
       " Card(('ace', 'hearts')),\n",
       " Card(('ace', 'diamonds'))]"
      ]
     },
     "execution_count": 3,
     "metadata": {},
     "output_type": "execute_result"
    }
   ],
   "source": [
    "s6.create_deck_of_cards_without_using_map_lambda_zip()"
   ]
  },
  {
   "cell_type": "markdown",
   "metadata": {},
   "source": [
    "## Let's play Poker!\n",
    "\n",
    "It's Friday and we finally are done with our heavy week as software superstars. We've called over our friends for a chill evening with to wind down and play some Poker. \n",
    "\n",
    "We are 5 of us at the table, and man! these poker rules are so so hard to remember! But wait, we are coding geniuses. Why not simply build a module that keeps track of this for us?\n",
    "\n",
    "\\*Card and Hand enter the room\\*\n",
    "\n",
    "\\*confusion leaves\\*"
   ]
  },
  {
   "cell_type": "markdown",
   "metadata": {},
   "source": [
    "### Let's deal for our game\n",
    "\n",
    "Meet my friends: Viper, Tigress, Monkey and that friend who always gets bullied - Mantace!\n",
    "    \n",
    "So this is how the first deal went.\n",
    "\n",
    "Viper : One Pair of 8 with high card 7</br>\n",
    "\n",
    "Monkey : One Pair of 7 with high card 8</br>\n",
    "\n",
    "Tigress : One Pair of 7 with high card 9</br>\n",
    "    \n",
    "Unfortunately, my cute friend mantis has very small hands and can't play very well. But we gave him a fake set of cards with mispelt names of suits. Just so he feels included too :)\n",
    "\n",
    "Mantis: incorrect card in hand - harts** and spides** cards for his fun</br>\n",
    "\n",
    "And lo and behold my hand!\n",
    "Me : Straight Flush</br>\n",
    "\n",
    "Will I win? Look below to find out!"
   ]
  },
  {
   "cell_type": "code",
   "execution_count": 4,
   "metadata": {},
   "outputs": [
    {
     "name": "stdout",
     "output_type": "stream",
     "text": [
      "One Pair\n",
      "[7, 6, 5, 4]\n"
     ]
    }
   ],
   "source": [
    "# viper\n",
    "cards = [Card('5 of spades'), Card('6 of spades'), Card('7 of spades'), Card('8 of spades'), Card('8 of hearts')]\n",
    "viper = Hand(cards)\n",
    "\n",
    "print(viper.hand_name)\n",
    "print(viper.sorting_key)"
   ]
  },
  {
   "cell_type": "code",
   "execution_count": 5,
   "metadata": {},
   "outputs": [
    {
     "name": "stdout",
     "output_type": "stream",
     "text": [
      "One Pair\n",
      "[6, 7, 5, 4]\n"
     ]
    }
   ],
   "source": [
    "# Monkey\n",
    "cards = [Card('5 of spades'), Card('6 of spades'), Card('7 of spades'), Card('8 of spades'), Card('7 of hearts')]\n",
    "monkey = Hand(cards)\n",
    "\n",
    "print(monkey.hand_name)\n",
    "print(monkey.sorting_key)"
   ]
  },
  {
   "cell_type": "code",
   "execution_count": 6,
   "metadata": {},
   "outputs": [
    {
     "name": "stdout",
     "output_type": "stream",
     "text": [
      "One Pair\n",
      "[6, 8, 5, 4]\n"
     ]
    }
   ],
   "source": [
    "# tigress\n",
    "cards = [Card('5 of spades'), Card('6 of spades'), Card('7 of spades'), Card('9 of spades'), Card('7 of hearts')]\n",
    "tigress = Hand(cards)\n",
    "\n",
    "print(tigress.hand_name)\n",
    "print(tigress.sorting_key)"
   ]
  },
  {
   "cell_type": "code",
   "execution_count": 7,
   "metadata": {},
   "outputs": [
    {
     "name": "stdout",
     "output_type": "stream",
     "text": [
      "The suit is incorrect. Allowed values : ['spades', 'clubs', 'hearts', 'diamonds']\n"
     ]
    }
   ],
   "source": [
    "# errors out if mantis tries to join\n",
    "try:\n",
    "\tcards = [Card('5 of spides'), Card('6 of spides'), Card('7 of spides'), Card('9 of spides'), Card('7 of harts')]\n",
    "\tmantis = Hand(cards)\n",
    "\n",
    "\tprint(mantis.hand_name)\n",
    "\tprint(mantis.sorting_key)\n",
    "except Exception as e:\n",
    "\tprint(e)"
   ]
  },
  {
   "cell_type": "code",
   "execution_count": 8,
   "metadata": {},
   "outputs": [
    {
     "name": "stdout",
     "output_type": "stream",
     "text": [
      "Straight Flush\n",
      "[8, 7, 6, 5, 4]\n"
     ]
    }
   ],
   "source": [
    "# me\n",
    "cards = [Card('5 of spades'), Card('6 of spades'), Card('7 of spades'), Card('8 of spades'), Card('9 of spades')]\n",
    "me = Hand(cards)\n",
    "\n",
    "print(me.hand_name)\n",
    "print(me.sorting_key)"
   ]
  },
  {
   "cell_type": "markdown",
   "metadata": {},
   "source": [
    "### Now  let the games begin\n",
    "\n",
    "This implementation allows us to play poker with as many hands as we want, as many players as are at the table. First, we are confused whose cards are better. So let's quickly do some checks"
   ]
  },
  {
   "cell_type": "code",
   "execution_count": 9,
   "metadata": {},
   "outputs": [
    {
     "name": "stdout",
     "output_type": "stream",
     "text": [
      "my hand better than viper? True\n",
      "viper hand better than monkey? True\n",
      "monkey hand better than tigress? False\n"
     ]
    }
   ],
   "source": [
    "# compare hands with ease\n",
    "\n",
    "print(\"my hand better than viper?\", me > viper)\n",
    "print(\"viper hand better than monkey?\", viper > monkey)\n",
    "print(\"monkey hand better than tigress?\", monkey > tigress)"
   ]
  },
  {
   "cell_type": "markdown",
   "metadata": {},
   "source": [
    "### Wow. That was easy!!\n",
    "\n",
    "Okay, so I bid smartly and we have built a big pot of gold the winner gets to take home :D\n",
    "\n",
    "Can I check who amongst them would win if I weren't there? Who is my competition"
   ]
  },
  {
   "cell_type": "code",
   "execution_count": 10,
   "metadata": {},
   "outputs": [
    {
     "name": "stdout",
     "output_type": "stream",
     "text": [
      "Winner is hand 1\n",
      "You have a One Pair with Hand['8 of spades', '8 of hearts', '7 of spades', '6 of spades', '5 of spades']\n"
     ]
    }
   ],
   "source": [
    "winner = s6.get_winning_hand(viper, monkey, tigress)\n",
    "print(winner)"
   ]
  },
  {
   "cell_type": "markdown",
   "metadata": {},
   "source": [
    "**Hmm. turns out viper has the best hand. Let me reveal my cards too then!**"
   ]
  },
  {
   "cell_type": "markdown",
   "metadata": {},
   "source": [
    "### But Oh no!!\n",
    "\n",
    "My arch nemesis Lord Shen showed up to my party with the exact Straight Flush, but in a different suit?"
   ]
  },
  {
   "cell_type": "code",
   "execution_count": 11,
   "metadata": {},
   "outputs": [
    {
     "name": "stdout",
     "output_type": "stream",
     "text": [
      "Straight Flush\n",
      "[8, 7, 6, 5, 4]\n"
     ]
    }
   ],
   "source": [
    "# shen\n",
    "cards = [Card('5 of hearts'), Card('6 of hearts'), Card('7 of hearts'), Card('8 of hearts'), Card('9 of hearts')]\n",
    "shen = Hand(cards)\n",
    "\n",
    "print(shen.hand_name)\n",
    "print(shen.sorting_key)"
   ]
  },
  {
   "cell_type": "code",
   "execution_count": 12,
   "metadata": {},
   "outputs": [
    {
     "name": "stdout",
     "output_type": "stream",
     "text": [
      "The pot is split between these hands : [1, 2]\n",
      "[Straight Flush Hand[('9', 'spades'), ('8', 'spades'), ('7', 'spades'), ('6', 'spades'), ('5', 'spades')], Straight Flush Hand[('9', 'hearts'), ('8', 'hearts'), ('7', 'hearts'), ('6', 'hearts'), ('5', 'hearts')]]\n"
     ]
    }
   ],
   "source": [
    "winner = s6.get_winning_hand(me, shen)\n",
    "print(winner)"
   ]
  },
  {
   "cell_type": "markdown",
   "metadata": {},
   "source": [
    "Okay, I think we are done. It was a draw. But wait! Champa from work showed up, and weirdly she joined us with just 3 cards in her hand, Can she win against me?"
   ]
  },
  {
   "cell_type": "code",
   "execution_count": 13,
   "metadata": {},
   "outputs": [
    {
     "name": "stdout",
     "output_type": "stream",
     "text": [
      "Straight Flush\n",
      "[6, 5, 4]\n"
     ]
    }
   ],
   "source": [
    "# champa\n",
    "cards = [Card('5 of hearts'), Card('6 of hearts'), Card('7 of hearts')]\n",
    "champa = Hand(cards)\n",
    "\n",
    "print(champa.hand_name)\n",
    "print(champa.sorting_key)"
   ]
  },
  {
   "cell_type": "code",
   "execution_count": 14,
   "metadata": {},
   "outputs": [
    {
     "ename": "AssertionError",
     "evalue": "Are you comparing Teen patti hands with poker ones? Number of cards in hands need to be equal!!",
     "output_type": "error",
     "traceback": [
      "\u001b[1;31m---------------------------------------------------------------------------\u001b[0m",
      "\u001b[1;31mAssertionError\u001b[0m                            Traceback (most recent call last)",
      "\u001b[1;32m<ipython-input-14-8216d8f842f2>\u001b[0m in \u001b[0;36m<module>\u001b[1;34m\u001b[0m\n\u001b[1;32m----> 1\u001b[1;33m \u001b[0mwinner\u001b[0m \u001b[1;33m=\u001b[0m \u001b[0ms6\u001b[0m\u001b[1;33m.\u001b[0m\u001b[0mget_winning_hand\u001b[0m\u001b[1;33m(\u001b[0m\u001b[0mme\u001b[0m\u001b[1;33m,\u001b[0m \u001b[0mchampa\u001b[0m\u001b[1;33m)\u001b[0m\u001b[1;33m\u001b[0m\u001b[1;33m\u001b[0m\u001b[0m\n\u001b[0m\u001b[0;32m      2\u001b[0m \u001b[0mprint\u001b[0m\u001b[1;33m(\u001b[0m\u001b[0mwinner\u001b[0m\u001b[1;33m)\u001b[0m\u001b[1;33m\u001b[0m\u001b[1;33m\u001b[0m\u001b[0m\n",
      "\u001b[1;32mD:\\projects\\EPAi 3.0\\session-6-assignment-ashwin100196\\session6_part1.py\u001b[0m in \u001b[0;36mget_winning_hand\u001b[1;34m(*hands)\u001b[0m\n\u001b[0;32m    265\u001b[0m         \u001b[1;32mfor\u001b[0m \u001b[0mi\u001b[0m \u001b[1;32min\u001b[0m \u001b[0mrange\u001b[0m\u001b[1;33m(\u001b[0m\u001b[0mlen\u001b[0m\u001b[1;33m(\u001b[0m\u001b[0msorted_hands\u001b[0m\u001b[1;33m)\u001b[0m\u001b[1;33m)\u001b[0m\u001b[1;33m:\u001b[0m\u001b[1;33m\u001b[0m\u001b[1;33m\u001b[0m\u001b[0m\n\u001b[0;32m    266\u001b[0m                 \u001b[0mwinning_hands\u001b[0m\u001b[1;33m.\u001b[0m\u001b[0mappend\u001b[0m\u001b[1;33m(\u001b[0m\u001b[1;33m{\u001b[0m\u001b[1;34m'index'\u001b[0m \u001b[1;33m:\u001b[0m \u001b[0msorted_hands\u001b[0m\u001b[1;33m[\u001b[0m\u001b[0mi\u001b[0m\u001b[1;33m]\u001b[0m\u001b[1;33m[\u001b[0m\u001b[1;36m0\u001b[0m\u001b[1;33m]\u001b[0m\u001b[1;33m,\u001b[0m \u001b[1;34m'hand'\u001b[0m \u001b[1;33m:\u001b[0m \u001b[0msorted_hands\u001b[0m\u001b[1;33m[\u001b[0m\u001b[0mi\u001b[0m\u001b[1;33m]\u001b[0m\u001b[1;33m[\u001b[0m\u001b[1;36m1\u001b[0m\u001b[1;33m]\u001b[0m\u001b[1;33m}\u001b[0m\u001b[1;33m)\u001b[0m\u001b[1;33m\u001b[0m\u001b[1;33m\u001b[0m\u001b[0m\n\u001b[1;32m--> 267\u001b[1;33m                 \u001b[1;32mif\u001b[0m \u001b[0mi\u001b[0m \u001b[1;33m!=\u001b[0m \u001b[0mlen\u001b[0m\u001b[1;33m(\u001b[0m\u001b[0msorted_hands\u001b[0m\u001b[1;33m)\u001b[0m \u001b[1;33m-\u001b[0m \u001b[1;36m1\u001b[0m \u001b[1;32mand\u001b[0m \u001b[0msorted_hands\u001b[0m\u001b[1;33m[\u001b[0m\u001b[0mi\u001b[0m\u001b[1;33m]\u001b[0m\u001b[1;33m[\u001b[0m\u001b[1;36m1\u001b[0m\u001b[1;33m]\u001b[0m \u001b[1;33m!=\u001b[0m \u001b[0msorted_hands\u001b[0m\u001b[1;33m[\u001b[0m\u001b[0mi\u001b[0m\u001b[1;33m+\u001b[0m\u001b[1;36m1\u001b[0m\u001b[1;33m]\u001b[0m\u001b[1;33m[\u001b[0m\u001b[1;36m1\u001b[0m\u001b[1;33m]\u001b[0m\u001b[1;33m:\u001b[0m \u001b[1;31m# if the next best hand is not a winner\u001b[0m\u001b[1;33m\u001b[0m\u001b[1;33m\u001b[0m\u001b[0m\n\u001b[0m\u001b[0;32m    268\u001b[0m                         \u001b[1;32mbreak\u001b[0m\u001b[1;33m\u001b[0m\u001b[1;33m\u001b[0m\u001b[0m\n\u001b[0;32m    269\u001b[0m \u001b[1;33m\u001b[0m\u001b[0m\n",
      "\u001b[1;32mD:\\projects\\EPAi 3.0\\session-6-assignment-ashwin100196\\session6_part1.py\u001b[0m in \u001b[0;36m__ne__\u001b[1;34m(self, other)\u001b[0m\n\u001b[0;32m    233\u001b[0m \u001b[1;33m\u001b[0m\u001b[0m\n\u001b[0;32m    234\u001b[0m         \u001b[1;32mdef\u001b[0m \u001b[0m__ne__\u001b[0m\u001b[1;33m(\u001b[0m\u001b[0mself\u001b[0m\u001b[1;33m,\u001b[0m \u001b[0mother\u001b[0m\u001b[1;33m)\u001b[0m\u001b[1;33m:\u001b[0m\u001b[1;33m\u001b[0m\u001b[1;33m\u001b[0m\u001b[0m\n\u001b[1;32m--> 235\u001b[1;33m                 \u001b[1;32mreturn\u001b[0m \u001b[1;32mnot\u001b[0m \u001b[0mself\u001b[0m\u001b[1;33m.\u001b[0m\u001b[0m__eq__\u001b[0m\u001b[1;33m(\u001b[0m\u001b[0mother\u001b[0m\u001b[1;33m)\u001b[0m\u001b[1;33m\u001b[0m\u001b[1;33m\u001b[0m\u001b[0m\n\u001b[0m\u001b[0;32m    236\u001b[0m \u001b[1;33m\u001b[0m\u001b[0m\n\u001b[0;32m    237\u001b[0m         \u001b[1;32mdef\u001b[0m \u001b[0m__repr__\u001b[0m\u001b[1;33m(\u001b[0m\u001b[0mself\u001b[0m\u001b[1;33m)\u001b[0m\u001b[1;33m:\u001b[0m\u001b[1;33m\u001b[0m\u001b[1;33m\u001b[0m\u001b[0m\n",
      "\u001b[1;32mD:\\projects\\EPAi 3.0\\session-6-assignment-ashwin100196\\session6_part1.py\u001b[0m in \u001b[0;36m__eq__\u001b[1;34m(self, other)\u001b[0m\n\u001b[0;32m    229\u001b[0m         \u001b[1;32mdef\u001b[0m \u001b[0m__eq__\u001b[0m\u001b[1;33m(\u001b[0m\u001b[0mself\u001b[0m\u001b[1;33m,\u001b[0m \u001b[0mother\u001b[0m\u001b[1;33m)\u001b[0m\u001b[1;33m:\u001b[0m\u001b[1;33m\u001b[0m\u001b[1;33m\u001b[0m\u001b[0m\n\u001b[0;32m    230\u001b[0m                 \u001b[1;32mif\u001b[0m \u001b[0mlen\u001b[0m\u001b[1;33m(\u001b[0m\u001b[0mself\u001b[0m\u001b[1;33m.\u001b[0m\u001b[0mcards\u001b[0m\u001b[1;33m)\u001b[0m \u001b[1;33m!=\u001b[0m \u001b[0mlen\u001b[0m\u001b[1;33m(\u001b[0m\u001b[0mother\u001b[0m\u001b[1;33m.\u001b[0m\u001b[0mcards\u001b[0m\u001b[1;33m)\u001b[0m\u001b[1;33m:\u001b[0m\u001b[1;33m\u001b[0m\u001b[1;33m\u001b[0m\u001b[0m\n\u001b[1;32m--> 231\u001b[1;33m                         \u001b[1;32mraise\u001b[0m \u001b[0mAssertionError\u001b[0m\u001b[1;33m(\u001b[0m\u001b[1;34m\"Are you comparing Teen patti hands with poker ones? Number of cards in hands need to be equal!!\"\u001b[0m\u001b[1;33m)\u001b[0m\u001b[1;33m\u001b[0m\u001b[1;33m\u001b[0m\u001b[0m\n\u001b[0m\u001b[0;32m    232\u001b[0m                 \u001b[1;32mreturn\u001b[0m \u001b[0mself\u001b[0m\u001b[1;33m.\u001b[0m\u001b[0mhand_rank\u001b[0m \u001b[1;33m==\u001b[0m \u001b[0mother\u001b[0m\u001b[1;33m.\u001b[0m\u001b[0mhand_rank\u001b[0m \u001b[1;32mand\u001b[0m \u001b[0mself\u001b[0m\u001b[1;33m.\u001b[0m\u001b[0msorting_key\u001b[0m \u001b[1;33m==\u001b[0m \u001b[0mother\u001b[0m\u001b[1;33m.\u001b[0m\u001b[0msorting_key\u001b[0m\u001b[1;33m\u001b[0m\u001b[1;33m\u001b[0m\u001b[0m\n\u001b[0;32m    233\u001b[0m \u001b[1;33m\u001b[0m\u001b[0m\n",
      "\u001b[1;31mAssertionError\u001b[0m: Are you comparing Teen patti hands with poker ones? Number of cards in hands need to be equal!!"
     ]
    }
   ],
   "source": [
    "winner = s6.get_winning_hand(me, champa)\n",
    "print(winner)"
   ]
  },
  {
   "cell_type": "markdown",
   "metadata": {},
   "source": [
    "### Thankfully what we built tests for this.... I told champa to play with mantis, gave him new cards"
   ]
  },
  {
   "cell_type": "code",
   "execution_count": 15,
   "metadata": {},
   "outputs": [
    {
     "name": "stdout",
     "output_type": "stream",
     "text": [
      "High Card\n",
      "[6, 2, 1]\n"
     ]
    }
   ],
   "source": [
    "cards = [Card('2 of spades'), Card('3 of diamonds'), Card('7 of hearts')]\n",
    "mantis = Hand(cards)\n",
    "\n",
    "print(mantis.hand_name)\n",
    "print(mantis.sorting_key)"
   ]
  },
  {
   "cell_type": "code",
   "execution_count": 16,
   "metadata": {},
   "outputs": [
    {
     "name": "stdout",
     "output_type": "stream",
     "text": [
      "Winner is hand 2\n",
      "You have a Straight Flush with Hand['7 of hearts', '6 of hearts', '5 of hearts']\n"
     ]
    }
   ],
   "source": [
    "winner = s6.get_winning_hand(mantis, champa)\n",
    "print(winner)"
   ]
  },
  {
   "cell_type": "markdown",
   "metadata": {},
   "source": [
    "### Sucks. Mantis lost :( But good to know that our module also supports Teen Patti!\n",
    "\n",
    "### Let me now reveal my cards"
   ]
  },
  {
   "cell_type": "code",
   "execution_count": 17,
   "metadata": {},
   "outputs": [
    {
     "name": "stdout",
     "output_type": "stream",
     "text": [
      "Winner is hand 4\n",
      "You have a Straight Flush with Hand['9 of spades', '8 of spades', '7 of spades', '6 of spades', '5 of spades']\n"
     ]
    }
   ],
   "source": [
    "winner = s6.get_winning_hand(viper, monkey, tigress, me)\n",
    "print(winner)"
   ]
  },
  {
   "cell_type": "code",
   "execution_count": 18,
   "metadata": {},
   "outputs": [
    {
     "name": "stdout",
     "output_type": "stream",
     "text": [
      "High Card\n",
      "[13, 9, 1]\n"
     ]
    }
   ],
   "source": [
    "h = Hand([Card('2 of spades'), Card('ace of diamonds'), Card('10 of hearts')])\n",
    "\n",
    "print(h.hand_name)\n",
    "print(h.sorting_key)"
   ]
  },
  {
   "cell_type": "markdown",
   "metadata": {},
   "source": [
    "# Voila! I win!! :D I guess... there are no accidents\n",
    "\n",
    "# The real winners are Card and Hand though. What a time to be alive!"
   ]
  }
 ],
 "metadata": {
  "kernelspec": {
   "display_name": "Python 3",
   "language": "python",
   "name": "python3"
  },
  "language_info": {
   "codemirror_mode": {
    "name": "ipython",
    "version": 3
   },
   "file_extension": ".py",
   "mimetype": "text/x-python",
   "name": "python",
   "nbconvert_exporter": "python",
   "pygments_lexer": "ipython3",
   "version": "3.8.8"
  }
 },
 "nbformat": 4,
 "nbformat_minor": 2
}
